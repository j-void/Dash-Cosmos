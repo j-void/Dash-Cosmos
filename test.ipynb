{
 "cells": [
  {
   "cell_type": "markdown",
   "id": "2c9fd6de",
   "metadata": {},
   "source": [
    "### COSMOS"
   ]
  },
  {
   "cell_type": "code",
   "execution_count": null,
   "id": "da983437",
   "metadata": {},
   "outputs": [],
   "source": [
    "import torch\n",
    "import os\n",
    "from networks.cosmos import CosmosFullModel\n",
    "\n",
    "load_path = \".torch\"\n",
    "model = CosmosFullModel(300, \"cuda\")\n",
    "\n",
    "\n"
   ]
  },
  {
   "cell_type": "code",
   "execution_count": null,
   "id": "7f67b2ec",
   "metadata": {},
   "outputs": [],
   "source": []
  },
  {
   "cell_type": "code",
   "execution_count": null,
   "id": "dc26efd1",
   "metadata": {},
   "outputs": [],
   "source": []
  },
  {
   "cell_type": "code",
   "execution_count": null,
   "id": "108eb9f6",
   "metadata": {},
   "outputs": [],
   "source": []
  },
  {
   "cell_type": "code",
   "execution_count": null,
   "id": "e808dd4c",
   "metadata": {},
   "outputs": [],
   "source": []
  }
 ],
 "metadata": {
  "kernelspec": {
   "display_name": "dl",
   "language": "python",
   "name": "python3"
  },
  "language_info": {
   "name": "python",
   "version": "3.12.3"
  }
 },
 "nbformat": 4,
 "nbformat_minor": 5
}
